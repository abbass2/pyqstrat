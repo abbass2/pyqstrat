{
 "cells": [
  {
   "cell_type": "markdown",
   "metadata": {
    "run_control": {
     "frozen": false,
     "read_only": false
    }
   },
   "source": [
    "## A Simple Pair Trading Strategy\n",
    "\n",
    "**_Please go through the \"building strategies\" notebook before looking at this notebook._**\n",
    "\n",
    "Let's build a aimple pair trading strategy to show how you can trade multiple symbols in a strategy.  We will trade 2 stocks, Coca-Cola (KO) and Pepsi (PEP)\n",
    "\n",
    "1.  We will buy KO and sell PEP when the price ratio KO / PEP is more than 1 standard deviation lower than its 5 day simple moving average.  \n",
    "2.  We will buy PEP and sell KO when the price ratio KO / PEP is more than 1 standard deviation higher than its 5 day simple moving average.\n",
    "3.  We will exit when the price ratio is less than +/- 0.5 standard deviations away from its simple moving average\n",
    "4.  We will size the trades in 1 and 2 by allocating 10% of our capital to each trade.\n",
    "\n",
    "First lets load some price data in fifteen minute bars."
   ]
  },
  {
   "cell_type": "code",
   "execution_count": 1,
   "metadata": {
    "ExecuteTime": {
     "end_time": "2019-03-24T19:12:46.764577Z",
     "start_time": "2019-03-24T19:12:45.849974Z"
    },
    "run_control": {
     "frozen": false,
     "read_only": false
    }
   },
   "outputs": [
    {
     "ename": "IndexError",
     "evalue": "list index out of range",
     "output_type": "error",
     "traceback": [
      "\u001b[0;31m---------------------------------------------------------------------------\u001b[0m",
      "\u001b[0;31mIndexError\u001b[0m                                Traceback (most recent call last)",
      "\u001b[0;32m<ipython-input-1-58a19a8559b1>\u001b[0m in \u001b[0;36m<module>\u001b[0;34m\u001b[0m\n\u001b[1;32m      8\u001b[0m \u001b[0;32mfrom\u001b[0m \u001b[0mtypes\u001b[0m \u001b[0;32mimport\u001b[0m \u001b[0mSimpleNamespace\u001b[0m\u001b[0;34m\u001b[0m\u001b[0;34m\u001b[0m\u001b[0m\n\u001b[1;32m      9\u001b[0m \u001b[0;34m\u001b[0m\u001b[0m\n\u001b[0;32m---> 10\u001b[0;31m \u001b[0;32mimport\u001b[0m \u001b[0mpyqstrat\u001b[0m \u001b[0;32mas\u001b[0m \u001b[0mpq\u001b[0m\u001b[0;34m\u001b[0m\u001b[0;34m\u001b[0m\u001b[0m\n\u001b[0m\u001b[1;32m     11\u001b[0m \u001b[0;34m\u001b[0m\u001b[0m\n\u001b[1;32m     12\u001b[0m \u001b[0mpq\u001b[0m\u001b[0;34m.\u001b[0m\u001b[0mset_defaults\u001b[0m\u001b[0;34m(\u001b[0m\u001b[0;34m)\u001b[0m \u001b[0;31m# Set some display defaults to make dataframes and plots easier to look at\u001b[0m\u001b[0;34m\u001b[0m\u001b[0;34m\u001b[0m\u001b[0m\n",
      "\u001b[0;32m~/Developer/pyqstrat/pyqstrat/__init__.py\u001b[0m in \u001b[0;36m<module>\u001b[0;34m\u001b[0m\n\u001b[1;32m      5\u001b[0m \u001b[0;32mfrom\u001b[0m \u001b[0mpyqstrat\u001b[0m\u001b[0;34m.\u001b[0m\u001b[0maccount\u001b[0m \u001b[0;32mimport\u001b[0m \u001b[0;34m*\u001b[0m\u001b[0;34m\u001b[0m\u001b[0;34m\u001b[0m\u001b[0m\n\u001b[1;32m      6\u001b[0m \u001b[0;32mfrom\u001b[0m \u001b[0mpyqstrat\u001b[0m\u001b[0;34m.\u001b[0m\u001b[0morders\u001b[0m \u001b[0;32mimport\u001b[0m \u001b[0;34m*\u001b[0m\u001b[0;34m\u001b[0m\u001b[0;34m\u001b[0m\u001b[0m\n\u001b[0;32m----> 7\u001b[0;31m \u001b[0;32mfrom\u001b[0m \u001b[0mpyqstrat\u001b[0m\u001b[0;34m.\u001b[0m\u001b[0mstrategy\u001b[0m \u001b[0;32mimport\u001b[0m \u001b[0;34m*\u001b[0m\u001b[0;34m\u001b[0m\u001b[0;34m\u001b[0m\u001b[0m\n\u001b[0m\u001b[1;32m      8\u001b[0m \u001b[0;32mfrom\u001b[0m \u001b[0mpyqstrat\u001b[0m\u001b[0;34m.\u001b[0m\u001b[0mportfolio\u001b[0m \u001b[0;32mimport\u001b[0m \u001b[0;34m*\u001b[0m\u001b[0;34m\u001b[0m\u001b[0;34m\u001b[0m\u001b[0m\n\u001b[1;32m      9\u001b[0m \u001b[0;32mfrom\u001b[0m \u001b[0mpyqstrat\u001b[0m\u001b[0;34m.\u001b[0m\u001b[0moptimize\u001b[0m \u001b[0;32mimport\u001b[0m \u001b[0;34m*\u001b[0m\u001b[0;34m\u001b[0m\u001b[0;34m\u001b[0m\u001b[0m\n",
      "\u001b[0;32m~/Developer/pyqstrat/pyqstrat/strategy.py\u001b[0m in \u001b[0;36m<module>\u001b[0;34m\u001b[0m\n\u001b[1;32m    730\u001b[0m \u001b[0mtimestamps\u001b[0m\u001b[0;34m,\u001b[0m \u001b[0morders_iter\u001b[0m\u001b[0;34m,\u001b[0m \u001b[0mtrades_iter\u001b[0m \u001b[0;34m=\u001b[0m \u001b[0mStrategy\u001b[0m\u001b[0;34m.\u001b[0m\u001b[0m_get_iteration_indices\u001b[0m\u001b[0;34m(\u001b[0m\u001b[0mMockStrat\u001b[0m\u001b[0;34m(\u001b[0m\u001b[0;34m)\u001b[0m\u001b[0;34m,\u001b[0m \u001b[0mrule_names\u001b[0m\u001b[0;34m,\u001b[0m \u001b[0msymbols\u001b[0m\u001b[0;34m,\u001b[0m \u001b[0mstart_date\u001b[0m\u001b[0;34m,\u001b[0m \u001b[0mend_date\u001b[0m\u001b[0;34m)\u001b[0m\u001b[0;34m\u001b[0m\u001b[0;34m\u001b[0m\u001b[0m\n\u001b[1;32m    731\u001b[0m \u001b[0;32massert\u001b[0m\u001b[0;34m(\u001b[0m\u001b[0mlen\u001b[0m\u001b[0;34m(\u001b[0m\u001b[0mtrades_iter\u001b[0m\u001b[0;34m[\u001b[0m\u001b[0;36m1\u001b[0m\u001b[0;34m]\u001b[0m\u001b[0;34m)\u001b[0m \u001b[0;34m==\u001b[0m \u001b[0;36m0\u001b[0m\u001b[0;34m)\u001b[0m\u001b[0;34m\u001b[0m\u001b[0;34m\u001b[0m\u001b[0m\n\u001b[0;32m--> 732\u001b[0;31m \u001b[0;32massert\u001b[0m\u001b[0;34m(\u001b[0m\u001b[0mtrades_iter\u001b[0m\u001b[0;34m[\u001b[0m\u001b[0;36m2\u001b[0m\u001b[0;34m]\u001b[0m\u001b[0;34m[\u001b[0m\u001b[0;36m1\u001b[0m\u001b[0;34m]\u001b[0m\u001b[0;34m[\u001b[0m\u001b[0;36m1\u001b[0m\u001b[0;34m]\u001b[0m \u001b[0;34m==\u001b[0m \u001b[0;34m\"AAPL\"\u001b[0m\u001b[0;34m)\u001b[0m\u001b[0;34m\u001b[0m\u001b[0;34m\u001b[0m\u001b[0m\n\u001b[0m\u001b[1;32m    733\u001b[0m \u001b[0;32massert\u001b[0m\u001b[0;34m(\u001b[0m\u001b[0mtrades_iter\u001b[0m\u001b[0;34m[\u001b[0m\u001b[0;36m2\u001b[0m\u001b[0;34m]\u001b[0m\u001b[0;34m[\u001b[0m\u001b[0;36m2\u001b[0m\u001b[0;34m]\u001b[0m\u001b[0;34m[\u001b[0m\u001b[0;36m1\u001b[0m\u001b[0;34m]\u001b[0m \u001b[0;34m==\u001b[0m \u001b[0;34m\"IBM\"\u001b[0m\u001b[0;34m)\u001b[0m\u001b[0;34m\u001b[0m\u001b[0;34m\u001b[0m\u001b[0m\n\u001b[1;32m    734\u001b[0m \u001b[0;32massert\u001b[0m\u001b[0;34m(\u001b[0m\u001b[0mlen\u001b[0m\u001b[0;34m(\u001b[0m\u001b[0morders_iter\u001b[0m\u001b[0;34m[\u001b[0m\u001b[0;36m0\u001b[0m\u001b[0;34m]\u001b[0m\u001b[0;34m)\u001b[0m \u001b[0;34m==\u001b[0m \u001b[0;36m0\u001b[0m\u001b[0;34m)\u001b[0m\u001b[0;34m\u001b[0m\u001b[0;34m\u001b[0m\u001b[0m\n",
      "\u001b[0;31mIndexError\u001b[0m: list index out of range"
     ]
    }
   ],
   "source": [
    "import math\n",
    "import datetime\n",
    "import numpy as np\n",
    "import pandas as pd\n",
    "import matplotlib.pyplot as plt\n",
    "import scipy.stats\n",
    "import os\n",
    "from types import SimpleNamespace\n",
    "\n",
    "import pyqstrat as pq\n",
    "\n",
    "pq.set_defaults() # Set some display defaults to make dataframes and plots easier to look at\n",
    "\n",
    "try:\n",
    "    ko_file = os.path.dirname(os.path.realpath(__file__)) + './support/coke_15_min_prices.csv.gz'\n",
    "    pep_file = os.path.dirname(os.path.realpath(__file__)) + './support/pepsi_15_min_prices.csv.gz' # If we are running from unit tests\n",
    "    \n",
    "except:\n",
    "    ko_file_path = '../notebooks/support/coke_15_min_prices.csv.gz'\n",
    "    pep_file_path = '../notebooks/support/pepsi_15_min_prices.csv.gz'\n",
    "\n",
    "ko_prices = pd.read_csv(ko_file_path)\n",
    "pep_prices = pd.read_csv(pep_file_path)\n",
    "\n",
    "ko_prices['timestamp'] = pd.to_datetime(ko_prices.date)\n",
    "pep_prices['timestamp'] = pd.to_datetime(pep_prices.date)\n",
    "\n",
    "timestamps = ko_prices.timestamp.values"
   ]
  },
  {
   "cell_type": "markdown",
   "metadata": {
    "ExecuteTime": {
     "end_time": "2019-02-27T02:39:20.994825Z",
     "start_time": "2019-02-27T02:39:20.991868Z"
    }
   },
   "source": [
    "Lets compute the ratio of the two prices and add it to the market data.  Since the two price series have the exact same timestamps, we can simply divide the two close price series"
   ]
  },
  {
   "cell_type": "code",
   "execution_count": null,
   "metadata": {
    "ExecuteTime": {
     "end_time": "2019-03-24T19:12:46.767700Z",
     "start_time": "2019-03-24T19:12:45.849Z"
    },
    "run_control": {
     "frozen": false,
     "read_only": false
    }
   },
   "outputs": [],
   "source": [
    "ratio = ko_prices.c / pep_prices.c"
   ]
  },
  {
   "cell_type": "markdown",
   "metadata": {
    "ExecuteTime": {
     "end_time": "2019-02-27T02:41:42.162910Z",
     "start_time": "2019-02-27T02:41:42.158983Z"
    }
   },
   "source": [
    "Next, lets create an indicator for the zscore, and plot it."
   ]
  },
  {
   "cell_type": "code",
   "execution_count": null,
   "metadata": {
    "ExecuteTime": {
     "end_time": "2019-03-24T19:12:46.768604Z",
     "start_time": "2019-03-24T19:12:45.851Z"
    },
    "run_control": {
     "frozen": false,
     "read_only": false
    }
   },
   "outputs": [],
   "source": [
    "def zscore_indicator(symbol, timestamps, indicators, strategy_context): # simple moving average\n",
    "    ratio = indicators.ratio\n",
    "    r = pd.Series(ratio).rolling(window = 130)\n",
    "    mean = r.mean()\n",
    "    std = r.std(ddof = 0)\n",
    "    zscore = (ratio - mean) / std\n",
    "    zscore = np.nan_to_num(zscore)\n",
    "    return zscore\n",
    "\n",
    "ko_zscore = zscore_indicator(None, None, SimpleNamespace(ratio = ratio), None)\n",
    "\n",
    "ratio_subplot = pq.Subplot([pq.TimeSeries('ratio', timestamps, ratio)], ylabel = 'Ratio')\n",
    "zscore_subplot = pq.Subplot([pq.TimeSeries('zscore', timestamps, ko_zscore)], ylabel = 'ZScore')\n",
    "plot = pq.Plot([ratio_subplot, zscore_subplot], title = 'KO')\n",
    "plot.draw();\n",
    "\n"
   ]
  },
  {
   "cell_type": "markdown",
   "metadata": {},
   "source": [
    "Now lets create the signal that will tell us to get in when the zscore is +/-1 and get out when its less than +/- 0.5.  We use a signal value of 2 to figure out when to go long, and -2 to figure out when to go short.  A value of 1 means get out of a long position, and -1 means get out of a short position.  We also plot the signal to check it."
   ]
  },
  {
   "cell_type": "code",
   "execution_count": null,
   "metadata": {
    "ExecuteTime": {
     "end_time": "2019-03-24T19:12:46.769647Z",
     "start_time": "2019-03-24T19:12:45.853Z"
    },
    "run_control": {
     "frozen": false,
     "read_only": false
    }
   },
   "outputs": [],
   "source": [
    "def pair_strategy_signal(symbol, timestamps, indicators, parent_signals, strategy_context): # We don't need any indicators since the zscore is already part of the market data\n",
    "    zscore = indicators.zscore\n",
    "    signal = np.where(zscore > 1, 2, 0)\n",
    "    signal = np.where(zscore < -1, -2, signal)\n",
    "    signal = np.where((zscore > 0.5) & (zscore < 1), 1, signal)\n",
    "    signal = np.where((zscore < -0.5) & (zscore > -1), -1, signal)\n",
    "    if symbol == 'PEP': signal = -1. * signal\n",
    "    return signal\n",
    "\n",
    "signal = pair_strategy_signal(None, timestamps, SimpleNamespace(zscore = ko_zscore), None, None)\n",
    "signal_subplot = pq.Subplot([pq.TimeSeries('signal', timestamps, signal)], ylabel = 'Signal')\n",
    "plot = pq.Plot([signal_subplot], title = 'KO', show_date_gaps = False)\n",
    "plot.draw()"
   ]
  },
  {
   "cell_type": "markdown",
   "metadata": {},
   "source": [
    "Finally we create the trading rule and market simulator functions"
   ]
  },
  {
   "cell_type": "code",
   "execution_count": null,
   "metadata": {
    "ExecuteTime": {
     "end_time": "2019-03-24T19:12:46.770599Z",
     "start_time": "2019-03-24T19:12:45.854Z"
    },
    "run_control": {
     "frozen": false,
     "read_only": false
    }
   },
   "outputs": [],
   "source": [
    "def pair_trading_rule(symbol, i, timestamps, indicators, signal, account, strategy_context):\n",
    "    timestamp = timestamps[i]\n",
    "    curr_pos = account.position(symbol, timestamp)\n",
    "    signal_value = signal[i]\n",
    "    risk_percent = 0.1\n",
    "    \n",
    "    orders = []\n",
    "    \n",
    "    # if we don't already have a position, check if we should enter a trade\n",
    "    if math.isclose(curr_pos, 0):\n",
    "        if signal_value == 2 or signal_value == -2:\n",
    "            curr_equity = account.equity(timestamp)\n",
    "            order_qty = np.round(curr_equity * risk_percent / indicators.c[i] * np.sign(signal_value))\n",
    "            trigger_price = indicators.c[i]\n",
    "            reason_code = pq.ReasonCode.ENTER_LONG if order_qty > 0 else pq.ReasonCode.ENTER_SHORT\n",
    "            orders.append(pq.MarketOrder(symbol, timestamp, order_qty, reason_code = reason_code))\n",
    "        \n",
    "    else: # We have a current position, so check if we should exit\n",
    "        if (curr_pos > 0 and signal_value == -1) or (curr_pos < 0 and signal_value == 1):\n",
    "            order_qty = -curr_pos\n",
    "            reason_code = pq.ReasonCode.EXIT_LONG if order_qty < 0 else pq.ReasonCode.EXIT_SHORT\n",
    "            orders.append(pq.MarketOrder(symbol, timestamp, order_qty, reason_code = reason_code))\n",
    "    return orders\n",
    "\n",
    "def market_simulator(orders, i, timestamps, indicators, signals, strategy_context):\n",
    "    trades = []\n",
    "    \n",
    "    timestamp = timestamps[i]\n",
    "    \n",
    "    o, h, l, c = indicators.o[i], indicators.h[i], indicators.l[i], indicators.c[i]\n",
    "    \n",
    "    for order in orders:\n",
    "        trade_price = np.nan\n",
    "        \n",
    "        if isinstance(order, pq.MarketOrder):\n",
    "            trade_price = 0.5 * (o + h) if order.qty > 0 else 0.5 * (o + l)\n",
    "        else:\n",
    "            raise Exception(f'unexpected order type: {order}')\n",
    "            \n",
    "        if np.isnan(trade_price): continue\n",
    "            \n",
    "        trade = pq.Trade(order.symbol, timestamp, order.qty, trade_price, order = order, commission = 0, fee = 0)\n",
    "        order.status = 'filled'\n",
    "                           \n",
    "        trades.append(trade)\n",
    "                           \n",
    "    return trades\n"
   ]
  },
  {
   "cell_type": "markdown",
   "metadata": {},
   "source": [
    "Lets run the strategy, plot the results and look at the returns"
   ]
  },
  {
   "cell_type": "code",
   "execution_count": null,
   "metadata": {
    "ExecuteTime": {
     "end_time": "2019-03-24T19:12:46.771497Z",
     "start_time": "2019-03-24T19:12:45.857Z"
    },
    "run_control": {
     "frozen": false,
     "read_only": false
    },
    "scrolled": false
   },
   "outputs": [],
   "source": [
    "ko_contract = pq.Contract('KO')\n",
    "pep_contract = pq.Contract('PEP')\n",
    "\n",
    "def get_price(symbol, timestamps, i, strategy_context):\n",
    "    if symbol == 'KO':\n",
    "        return strategy_context.ko_price[i]\n",
    "    elif symbol == 'PEP':\n",
    "        return strategy_context.pep_price[i]\n",
    "    raise Exception(f'Unknown symbol: {symbol}')\n",
    "\n",
    "strategy_context = SimpleNamespace(ko_price = ko_prices.c.values, pep_price = pep_prices.c.values)\n",
    "\n",
    "strategy = pq.Strategy([ko_contract, pep_contract], timestamps, get_price, strategy_context = strategy_context)\n",
    "for tup in [('KO', ko_prices), ('PEP', pep_prices)]:\n",
    "    for column in ['o', 'h', 'l', 'c']:\n",
    "        if column == 'c':\n",
    "        strategy.add_indicator(column, tup[1][column], symbols = [tup[0]])\n",
    "strategy.add_indicator('ratio', ratio)\n",
    "strategy.add_indicator('zscore', zscore_indicator, depends_on = ['ratio'])\n",
    "\n",
    "strategy.add_signal('pair_strategy_signal', pair_strategy_signal, depends_on_indicators = ['zscore'])\n",
    "\n",
    "# ask pqstrat to call our trading rule when the signal has one of the values [-2, -1, 1, 2]\n",
    "strategy.add_rule('pair_trading_rule', pair_trading_rule, \n",
    "                  signal_name = 'pair_strategy_signal', sig_true_values = [-2, -1, 1, 2])\n",
    "\n",
    "strategy.add_market_sim(market_simulator)\n",
    "\n",
    "portfolio = pq.Portfolio()\n",
    "portfolio.add_strategy('pair_strategy', strategy)\n",
    "portfolio.run()\n",
    "\n",
    "strategy.plot(primary_indicators = ['c'], secondary_indicators = ['zscore'])"
   ]
  },
  {
   "cell_type": "code",
   "execution_count": null,
   "metadata": {
    "ExecuteTime": {
     "end_time": "2019-03-24T19:12:46.772631Z",
     "start_time": "2019-03-24T19:12:45.859Z"
    },
    "run_control": {
     "frozen": false,
     "read_only": false
    }
   },
   "outputs": [],
   "source": [
    "strategy.evaluate_returns();"
   ]
  },
  {
   "cell_type": "code",
   "execution_count": null,
   "metadata": {
    "ExecuteTime": {
     "end_time": "2019-03-24T19:12:46.773954Z",
     "start_time": "2019-03-24T19:12:45.862Z"
    },
    "run_control": {
     "frozen": false,
     "read_only": false
    }
   },
   "outputs": [],
   "source": [
    "strategy.df_trades()"
   ]
  },
  {
   "cell_type": "code",
   "execution_count": null,
   "metadata": {
    "ExecuteTime": {
     "end_time": "2019-03-24T19:12:46.775506Z",
     "start_time": "2019-03-24T19:12:45.865Z"
    },
    "run_control": {
     "frozen": false,
     "read_only": false
    }
   },
   "outputs": [],
   "source": [
    "strategy.df_orders()"
   ]
  }
 ],
 "metadata": {
  "kernelspec": {
   "display_name": "Python 3",
   "language": "python",
   "name": "python3"
  },
  "language_info": {
   "codemirror_mode": {
    "name": "ipython",
    "version": 3
   },
   "file_extension": ".py",
   "mimetype": "text/x-python",
   "name": "python",
   "nbconvert_exporter": "python",
   "pygments_lexer": "ipython3",
   "version": "3.7.2"
  }
 },
 "nbformat": 4,
 "nbformat_minor": 2
}
