{
 "cells": [
  {
   "cell_type": "code",
   "execution_count": 8,
   "metadata": {
    "ExecuteTime": {
     "end_time": "2019-04-11T00:00:49.762770Z",
     "start_time": "2019-04-11T00:00:49.334637Z"
    },
    "run_control": {
     "frozen": false,
     "read_only": false
    }
   },
   "outputs": [],
   "source": [
    "import pandas as pd\n",
    "import numpy as np\n",
    "import types"
   ]
  },
  {
   "cell_type": "code",
   "execution_count": 21,
   "metadata": {
    "ExecuteTime": {
     "end_time": "2019-03-24T04:04:58.221459Z",
     "start_time": "2019-03-24T04:04:58.210290Z"
    },
    "run_control": {
     "frozen": false,
     "read_only": false
    }
   },
   "outputs": [
    {
     "name": "stdout",
     "output_type": "stream",
     "text": [
      "IBM 2019-01-01 15:00 qty: 100 prc: 10.3 fee: 0.01 order: None\n"
     ]
    }
   ],
   "source": [
    "class ContractGroup:\n",
    "    '''\n",
    "    A way to group contracts for figuring out which indicators, rules and signals to apply to a contract and for PNL reporting\n",
    "    Args:\n",
    "        name (str): Name of the group\n",
    "    '''\n",
    "    def __init__(self, name):\n",
    "        self.name = name\n",
    "        self.contracts = set()\n",
    "        self.contracts_by_symbol = {}\n",
    "        \n",
    "    def add_contract(self, contract):\n",
    "        self.contracts.add(contract)\n",
    "        self.contracts_by_symbol[contract.symbol] = contract\n",
    "        \n",
    "    def get_contract(self, symbol):\n",
    "        try:\n",
    "            return self.contracts_by_symbol[symbol]\n",
    "        except KeyError:\n",
    "            return None\n",
    "        \n",
    "    def __repr__(self):\n",
    "        return f'{self.name} {self.contracts}'\n",
    "\n",
    "class Contract:\n",
    "    '''A contract such as a stock, option or a future that can be traded'''\n",
    "    def __init__(self, symbol, contract_group, multiplier = 1., properties = None):\n",
    "        '''\n",
    "        Args:\n",
    "            symbol (str): A unique string reprenting this contract. e.g IBM or ESH9\n",
    "            contract_group (:obj:`ContractGroup`): We sometimes need to group contracts for calculating PNL, for example, you may have a strategy\n",
    "                which has 3 legs, a long option, a short option and a future or equity used to hedge delta.  In this case, you will be trading\n",
    "                different symbols over time as options and futures expire, but you may want to track PNL for each leg using a contract group for each leg.\n",
    "                So you could create contract groups 'Long Option', 'Short Option' and 'Hedge' and assign contracts to these.\n",
    "            multiplier (float, optional): If the market price convention is per unit, and the unit is not the same as contract size, \n",
    "                set the multiplier here. For example, for E-mini contracts, each contract is 50 units and the price is per unit, \n",
    "                so multiplier would be 50.  Default 1\n",
    "        '''\n",
    "        assert(isinstance(symbol, str) and len(symbol) > 0)\n",
    "        assert(multiplier > 0)\n",
    "        self.symbol = symbol\n",
    "        self.multiplier = multiplier\n",
    "        \n",
    "        if properties is None:\n",
    "            properties = types.SimpleNamespace()\n",
    "        self.properties = properties\n",
    "        \n",
    "        contract_group.add_contract(self)\n",
    "        self.contract_group = contract_group\n",
    "        \n",
    "    def __repr__(self):\n",
    "        return f'{self.symbol} {self.multiplier} ' + (\n",
    "            f'group: {self.contract_group.name}' if self.contract_group else '') + (\n",
    "            f' {self.properties}' if self.properties.__dict__ else '')\n",
    "\n",
    "class Trade:\n",
    "    def __init__(self, contract, timestamp, qty, price, fee = 0., commission = 0., order = None):\n",
    "        '''\n",
    "        Args:\n",
    "            contract (:obj:`Contract`):\n",
    "            timestamp (:obj:`np.datetime64`): Trade execution datetime\n",
    "            qty (float): Number of contracts or shares filled\n",
    "            price (float): Trade price\n",
    "            fee (float, optional): Fees paid to brokers or others. Default 0\n",
    "            commision (float, optional): Commission paid to brokers or others. Default 0\n",
    "            order (:obj:`pq.Order`, optional): A reference to the order that created this trade. Default None\n",
    "        '''\n",
    "        assert(isinstance(contract, Contract))\n",
    "        assert(np.isfinite(qty))\n",
    "        assert(np.isfinite(price))\n",
    "        assert(np.isfinite(fee))\n",
    "        assert(np.isfinite(commission))\n",
    "        assert(isinstance(timestamp, np.datetime64))\n",
    "        \n",
    "        self.contract = contract\n",
    "        self.timestamp = timestamp\n",
    "        self.qty = qty\n",
    "        self.price = price\n",
    "        self.fee = fee\n",
    "        self.commission = commission\n",
    "        self.order = order\n",
    "        \n",
    "    def __repr__(self):\n",
    "        '''\n",
    "        >>> print(Trade(Contract('IBM'), np.datetime64('2019-01-01 15:00'), 100, 10.2130000, 0.01))\n",
    "        IBM 2019-01-01 15:00 qty: 100 prc: 10.213 fee: 0.01 order: None\n",
    "        '''\n",
    "        timestamp = pd.Timestamp(self.timestamp).to_pydatetime()\n",
    "        fee = f' fee: {self.fee:.6g}' if self.fee else ''\n",
    "        commission = f' commission: {self.commission:.6g}' if self.commission else ''\n",
    "        return f'{self.contract.symbol}' + (f' {self.contract.properties}' if self.contract.properties.__dict__ else '') + (\n",
    "            f' {timestamp:%Y-%m-%d %H:%M:%S} qty: {self.qty} prc: {self.price:.6g}{fee}{commission} order: {self.order}')"
   ]
  },
  {
   "cell_type": "code",
   "execution_count": 12,
   "metadata": {
    "ExecuteTime": {
     "end_time": "2019-04-11T00:02:07.861405Z",
     "start_time": "2019-04-11T00:02:07.858776Z"
    }
   },
   "outputs": [],
   "source": [
    "x = types.SimpleNamespace()"
   ]
  },
  {
   "cell_type": "code",
   "execution_count": 11,
   "metadata": {
    "ExecuteTime": {
     "end_time": "2019-04-11T00:01:29.565392Z",
     "start_time": "2019-04-11T00:01:29.562858Z"
    }
   },
   "outputs": [],
   "source": [
    "if x.__dict__: print('hello')"
   ]
  },
  {
   "cell_type": "code",
   "execution_count": 13,
   "metadata": {
    "ExecuteTime": {
     "end_time": "2019-04-11T00:02:13.132769Z",
     "start_time": "2019-04-11T00:02:13.129932Z"
    }
   },
   "outputs": [],
   "source": [
    "if not x: print('hello')"
   ]
  },
  {
   "cell_type": "code",
   "execution_count": null,
   "metadata": {},
   "outputs": [],
   "source": []
  }
 ],
 "metadata": {
  "kernelspec": {
   "display_name": "Python 3",
   "language": "python",
   "name": "python3"
  },
  "language_info": {
   "codemirror_mode": {
    "name": "ipython",
    "version": 3
   },
   "file_extension": ".py",
   "mimetype": "text/x-python",
   "name": "python",
   "nbconvert_exporter": "python",
   "pygments_lexer": "ipython3",
   "version": "3.7.2"
  }
 },
 "nbformat": 4,
 "nbformat_minor": 2
}
